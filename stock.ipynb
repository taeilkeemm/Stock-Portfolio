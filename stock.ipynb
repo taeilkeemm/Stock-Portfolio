{
 "cells": [
  {
   "cell_type": "code",
   "execution_count": 1,
   "source": [
    "! pip install pandas-datareader"
   ],
   "outputs": [
    {
     "output_type": "stream",
     "name": "stdout",
     "text": [
      "Requirement already satisfied: pandas-datareader in c:\\users\\김태일\\appdata\\local\\programs\\python\\python37\\lib\\site-packages (0.10.0)\n",
      "Requirement already satisfied: pandas>=0.23 in c:\\users\\김태일\\appdata\\local\\programs\\python\\python37\\lib\\site-packages (from pandas-datareader) (1.1.4)\n",
      "Requirement already satisfied: requests>=2.19.0 in c:\\users\\김태일\\appdata\\local\\programs\\python\\python37\\lib\\site-packages (from pandas-datareader) (2.26.0)\n",
      "Requirement already satisfied: lxml in c:\\users\\김태일\\appdata\\local\\programs\\python\\python37\\lib\\site-packages (from pandas-datareader) (4.6.3)\n",
      "Requirement already satisfied: python-dateutil>=2.7.3 in c:\\users\\김태일\\appdata\\local\\programs\\python\\python37\\lib\\site-packages (from pandas>=0.23->pandas-datareader) (2.8.1)\n",
      "Requirement already satisfied: pytz>=2017.2 in c:\\users\\김태일\\appdata\\local\\programs\\python\\python37\\lib\\site-packages (from pandas>=0.23->pandas-datareader) (2020.4)\n",
      "Requirement already satisfied: numpy>=1.15.4 in c:\\users\\김태일\\appdata\\local\\programs\\python\\python37\\lib\\site-packages (from pandas>=0.23->pandas-datareader) (1.19.5)\n",
      "Requirement already satisfied: six>=1.5 in c:\\users\\김태일\\appdata\\local\\programs\\python\\python37\\lib\\site-packages (from python-dateutil>=2.7.3->pandas>=0.23->pandas-datareader) (1.15.0)\n",
      "Requirement already satisfied: certifi>=2017.4.17 in c:\\users\\김태일\\appdata\\local\\programs\\python\\python37\\lib\\site-packages (from requests>=2.19.0->pandas-datareader) (2021.5.30)\n",
      "Requirement already satisfied: idna<4,>=2.5 in c:\\users\\김태일\\appdata\\local\\programs\\python\\python37\\lib\\site-packages (from requests>=2.19.0->pandas-datareader) (3.2)\n",
      "Requirement already satisfied: charset-normalizer~=2.0.0 in c:\\users\\김태일\\appdata\\local\\programs\\python\\python37\\lib\\site-packages (from requests>=2.19.0->pandas-datareader) (2.0.3)\n",
      "Requirement already satisfied: urllib3<1.27,>=1.21.1 in c:\\users\\김태일\\appdata\\local\\programs\\python\\python37\\lib\\site-packages (from requests>=2.19.0->pandas-datareader) (1.26.6)\n"
     ]
    }
   ],
   "metadata": {}
  },
  {
   "cell_type": "code",
   "execution_count": 2,
   "source": [
    "import numpy as np\r\n",
    "import pandas as pd\r\n",
    "import pandas_datareader.data as web\r\n",
    "import datetime\r\n",
    "import FinanceDataReader as fdr\r\n",
    "import matplotlib.pyplot as plt \r\n",
    "import seaborn as sns    "
   ],
   "outputs": [],
   "metadata": {}
  },
  {
   "cell_type": "code",
   "execution_count": 3,
   "source": [
    "start = datetime.datetime(2020, 8, 8)\r\n",
    "end = datetime.datetime.today()\r\n",
    "\r\n",
    "finance = {\"kakaobank\":\"323410\", \"TYM\":\"002900\", \"shinwon\":\"009270\", \"skbio\":\"302440\", \"indf\":\"014900\", \"iyeon\":\"102460\", \"gwangjushinseagea\":\"037710\", \"sajo\":\"008040\", \"deadong\":\"008110\", \"ygplus\":\"037270\", \"fund_10\":\"152380\", \"kbstar\" : \"136340\", \"gold\":\"132030\", \"wti\":\"261220\",\"k_inverse\":\"114800\"}\r\n",
    "for i in finance.keys():\r\n",
    "    globals()['{}'.format(i)] = fdr.DataReader(finance[i],start,end)\r\n",
    "\r\n",
    "for i in finance.keys():\r\n",
    "    print(globals()['{}'.format(i)])"
   ],
   "outputs": [
    {
     "output_type": "stream",
     "name": "stdout",
     "text": [
      "             Open   High    Low  Close    Volume  Change\n",
      "Date                                                    \n",
      "2021-08-06  53700  69800  51000  69800  59340894     NaN\n",
      "            Open  High   Low  Close     Volume    Change\n",
      "Date                                                    \n",
      "2020-08-10  1175  1250  1170   1195    7606665  0.025751\n",
      "2020-08-11  1200  1215  1170   1175    3009715 -0.016736\n",
      "2020-08-12  1180  1185  1135   1165    2279758 -0.008511\n",
      "2020-08-13  1180  1185  1160   1170    2032775  0.004292\n",
      "2020-08-14  1195  1235  1180   1205    7480122  0.029915\n",
      "...          ...   ...   ...    ...        ...       ...\n",
      "2021-08-02  2115  2125  2055   2055    2668349 -0.023753\n",
      "2021-08-03  2055  2085  2035   2055    1697807  0.000000\n",
      "2021-08-04  2075  2215  2060   2145   11658517  0.043796\n",
      "2021-08-05  2175  2210  2130   2130    7311196 -0.006993\n",
      "2021-08-06  2170  2735  2150   2610  149449091  0.225352\n",
      "\n",
      "[247 rows x 6 columns]\n",
      "            Open  High   Low  Close     Volume    Change\n",
      "Date                                                    \n",
      "2020-08-10  1645  1655  1625   1635     532049 -0.009091\n",
      "2020-08-11  1625  1675  1625   1650     638200  0.009174\n",
      "2020-08-12  1645  1650  1605   1610     912171 -0.024242\n",
      "2020-08-13  1610  1625  1600   1620     576692  0.006211\n",
      "2020-08-14  1625  1630  1580   1595     714871 -0.015432\n",
      "...          ...   ...   ...    ...        ...       ...\n",
      "2021-08-02  2150  2200  2080   2085    8206396 -0.087527\n",
      "2021-08-03  2085  2155  2075   2095    8275811  0.004796\n",
      "2021-08-04  2095  2405  2095   2340   39537308  0.116945\n",
      "2021-08-05  2370  2380  2225   2230   10937574 -0.047009\n",
      "2021-08-06  2265  2775  2245   2645  117095164  0.186099\n",
      "\n",
      "[247 rows x 6 columns]\n",
      "              Open    High     Low   Close    Volume    Change\n",
      "Date                                                          \n",
      "2021-03-18  130000  169000  130000  169000    876189       NaN\n",
      "2021-03-19  184000  190000  166000  166500  12468903 -0.014793\n",
      "2021-03-22  161000  162500  143000  144000   4675116 -0.135135\n",
      "2021-03-23  147000  149500  138000  140500   2980953 -0.024306\n",
      "2021-03-24  138000  142000  135500  136500   1707179 -0.028470\n",
      "...            ...     ...     ...     ...       ...       ...\n",
      "2021-08-02  172000  197000  171500  197000   4083603  0.155425\n",
      "2021-08-03  202500  206500  191500  204000   2863342  0.035533\n",
      "2021-08-04  200000  212500  199000  210500   1612277  0.031863\n",
      "2021-08-05  216500  231000  202000  208000   4181416 -0.011876\n",
      "2021-08-06  212000  245000  208500  244500   4109156  0.175481\n",
      "\n",
      "[100 rows x 6 columns]\n",
      "Empty DataFrame\n",
      "Columns: []\n",
      "Index: []\n",
      "             Open   High    Low  Close   Volume    Change\n",
      "Date                                                     \n",
      "2020-08-10  19714  20548  19420  20205   430787  0.024906\n",
      "2020-08-11  19959  21087  19665  20303   470015  0.004850\n",
      "2020-08-12  20891  22705  20008  21578  1701064  0.062799\n",
      "2020-08-13  21332  21430  19910  19911   459465 -0.077255\n",
      "2020-08-14  19714  19861  18341  18881   473841 -0.051730\n",
      "...           ...    ...    ...    ...      ...       ...\n",
      "2021-08-02  51500  56000  51300  51700  1007785  0.011742\n",
      "2021-08-03  52400  53200  50600  52200   414613  0.009671\n",
      "2021-08-04  52400  62400  51700  58500  4005412  0.120690\n",
      "2021-08-05  58300  61000  57000  57600  1158131 -0.015385\n",
      "2021-08-06  61700  68700  60300  63200  5936348  0.097222\n",
      "\n",
      "[247 rows x 6 columns]\n",
      "              Open    High     Low   Close  Volume    Change\n",
      "Date                                                        \n",
      "2020-08-10  138500  139000  136500  138000     338 -0.007194\n",
      "2020-08-11  137500  140000  137500  139000    1208  0.007246\n",
      "2020-08-12  138500  155500  138500  149000    4607  0.071942\n",
      "2020-08-13  149000  151500  146000  149000    1653  0.000000\n",
      "2020-08-14  149000  158000  148500  149000    3351  0.000000\n",
      "...            ...     ...     ...     ...     ...       ...\n",
      "2021-08-02  185500  188500  184500  184500     806 -0.005391\n",
      "2021-08-03  185500  186500  184500  185000     712  0.002710\n",
      "2021-08-04  185000  187500  185000  186000     397  0.005405\n",
      "2021-08-05  186000  193000  185000  187000    1008  0.005376\n",
      "2021-08-06  187000  205500  186500  203500   20743  0.088235\n",
      "\n",
      "[247 rows x 6 columns]\n",
      "            Open  High   Low  Close    Volume    Change\n",
      "Date                                                   \n",
      "2020-08-10   863   863   852    853    286808 -0.001171\n",
      "2020-08-11   854   872   854    863    373728  0.011723\n",
      "2020-08-12   868   869   852    857    351529 -0.006952\n",
      "2020-08-13   870   882   858    873    870710  0.018670\n",
      "2020-08-14   873   874   862    871    320977 -0.002291\n",
      "...          ...   ...   ...    ...       ...       ...\n",
      "2021-08-02  1475  1620  1465   1595  44180441  0.063333\n",
      "2021-08-03  1585  1595  1510   1535   9720678 -0.037618\n",
      "2021-08-04  1530  1555  1475   1530   6952776 -0.003257\n",
      "2021-08-05  1515  1530  1500   1510   2786084 -0.013072\n",
      "2021-08-06  1515  1650  1500   1635  29497589  0.082781\n",
      "\n",
      "[247 rows x 6 columns]\n",
      "            Open  High   Low  Close  Volume    Change\n",
      "Date                                                 \n",
      "2020-08-10  4205  4450  4205   4395   46007  0.045184\n",
      "2020-08-11  4395  4470  4385   4395   12467  0.000000\n",
      "2020-08-12  4395  4415  4385   4405    7290  0.002275\n",
      "2020-08-13  4415  4420  4355   4360   12903 -0.010216\n",
      "2020-08-14  4375  4415  4345   4380    7160  0.004587\n",
      "...          ...   ...   ...    ...     ...       ...\n",
      "2021-08-02  7090  7120  6980   6980   16703 -0.019663\n",
      "2021-08-03  7010  7030  6820   6850   15507 -0.018625\n",
      "2021-08-04  6850  6900  6810   6890    5202  0.005839\n",
      "2021-08-05  6920  7020  6880   6990   13228  0.014514\n",
      "2021-08-06  6990  8460  6970   7540  733805  0.078684\n",
      "\n",
      "[247 rows x 6 columns]\n",
      "            Open  High   Low  Close    Volume    Change\n",
      "Date                                                   \n",
      "2020-08-10  4025  4195  3865   3960   6249262 -0.016149\n",
      "2020-08-11  3900  4010  3825   3855   2380730 -0.026515\n",
      "2020-08-12  3850  4180  3850   3995   9891900  0.036316\n",
      "2020-08-13  4100  4585  4040   4115  28685385  0.030038\n",
      "2020-08-14  4180  4430  4050   4405   8800062  0.070474\n",
      "...          ...   ...   ...    ...       ...       ...\n",
      "2021-08-02  6780  7240  6680   7150   3408867  0.054572\n",
      "2021-08-03  7100  7300  7040   7080   2049819 -0.009790\n",
      "2021-08-04  7180  7390  6900   6970   3467865 -0.015537\n",
      "2021-08-05  7000  7130  6860   6870   1331794 -0.014347\n",
      "2021-08-06  6930  7420  6750   7360   5294031  0.071325\n",
      "\n",
      "[247 rows x 6 columns]\n",
      "             Open   High    Low  Close  Volume    Change\n",
      "Date                                                    \n",
      "2020-08-10  73075  73075  72930  72930    1808 -0.003212\n",
      "2020-08-11  72930  72965  72820  72945     722  0.000206\n",
      "2020-08-12  72925  72950  72795  72880    7091 -0.000891\n",
      "2020-08-13  72880  72975  72840  72900    3416  0.000274\n",
      "2020-08-14  72850  72850  72640  72700    4158 -0.002743\n",
      "...           ...    ...    ...    ...     ...       ...\n",
      "2021-08-02  70745  70795  70560  70560    3762 -0.002545\n",
      "2021-08-03  70675  70735  70610  70635     549  0.001063\n",
      "2021-08-04  70690  70825  70660  70775    2203  0.001982\n",
      "2021-08-05  70775  70840  70620  70685     990 -0.001272\n",
      "2021-08-06  68730  70680  68730  70585     661 -0.001415\n",
      "\n",
      "[247 rows x 6 columns]\n",
      "              Open    High     Low   Close  Volume    Change\n",
      "Date                                                        \n",
      "2020-08-10  104226  104226  104192  104192    1299 -0.000767\n",
      "2020-08-11  104315  104315  104207  104252     370  0.000576\n",
      "2020-08-12  104310  104315  104251  104317      43  0.000623\n",
      "2020-08-13  104385  104385  104325  104381     269  0.000614\n",
      "2020-08-14  104380  104380  104290  104356     610 -0.000240\n",
      "...            ...     ...     ...     ...     ...       ...\n",
      "2021-08-02  105195  105205  105130  105205     321  0.000095\n",
      "2021-08-03  105180  105195  105100  105155    1316 -0.000475\n",
      "2021-08-04  105200  105230  105130  105220   12074  0.000618\n",
      "2021-08-05  105230  105235  105150  105225     530  0.000048\n",
      "2021-08-06  105200  105200  105120  105160     505 -0.000618\n",
      "\n",
      "[247 rows x 6 columns]\n",
      "             Open   High    Low  Close   Volume    Change\n",
      "Date                                                     \n",
      "2020-08-10  14055  14110  14045  14110   664035 -0.013287\n",
      "2020-08-11  14070  14070  13835  13835   976519 -0.019490\n",
      "2020-08-12  13240  13340  12935  13175  3100019 -0.047705\n",
      "2020-08-13  13310  13460  13305  13400   591133  0.017078\n",
      "2020-08-14  13550  13570  13465  13510   564101  0.008209\n",
      "...           ...    ...    ...    ...      ...       ...\n",
      "2021-08-02  12295  12315  12255  12260   146467 -0.011689\n",
      "2021-08-03  12285  12295  12265  12265    84947  0.000408\n",
      "2021-08-04  12270  12300  12255  12290   156429  0.002038\n",
      "2021-08-05  12275  12280  12250  12270    68194 -0.001627\n",
      "2021-08-06  12220  12225  12185  12200   111101 -0.005705\n",
      "\n",
      "[247 rows x 6 columns]\n",
      "             Open   High    Low  Close   Volume    Change\n",
      "Date                                                     \n",
      "2020-08-10   6570   6610   6560   6595  2140099 -0.003023\n",
      "2020-08-11   6635   6680   6625   6640  3112821  0.006823\n",
      "2020-08-12   6565   6625   6565   6625  1374930 -0.002259\n",
      "2020-08-13   6700   6725   6690   6690  2508624  0.009811\n",
      "2020-08-14   6685   6685   6655   6680  1591032 -0.001495\n",
      "...           ...    ...    ...    ...      ...       ...\n",
      "2021-08-02  11160  11160  11020  11075   264764  0.001356\n",
      "2021-08-03  10820  10870  10760  10775  1358324 -0.027088\n",
      "2021-08-04  10680  10690  10620  10680   402043 -0.008817\n",
      "2021-08-05  10335  10395  10315  10315  1111117 -0.034176\n",
      "2021-08-06  10460  10565  10390  10565   491126  0.024237\n",
      "\n",
      "[247 rows x 6 columns]\n",
      "            Open  High   Low  Close    Volume    Change\n",
      "Date                                                   \n",
      "2020-08-10  5505  5515  5410   5415  34444017 -0.014559\n",
      "2020-08-11  5405  5420  5320   5345  37111672 -0.012927\n",
      "2020-08-12  5365  5410  5320   5320  43613438 -0.004677\n",
      "2020-08-13  5275  5380  5260   5320  30484538  0.000000\n",
      "2020-08-14  5325  5425  5320   5375  46711038  0.010338\n",
      "...          ...   ...   ...    ...       ...       ...\n",
      "2021-08-02  3785  3815  3775   3780  15982273 -0.006570\n",
      "2021-08-03  3790  3795  3750   3750  33349150 -0.007937\n",
      "2021-08-04  3740  3750  3690   3695  36856633 -0.014667\n",
      "2021-08-05  3695  3715  3680   3700  45663007  0.001353\n",
      "2021-08-06  3700  3730  3695   3720  18609685  0.005405\n",
      "\n",
      "[247 rows x 6 columns]\n"
     ]
    }
   ],
   "metadata": {}
  },
  {
   "cell_type": "code",
   "execution_count": 4,
   "source": [
    "df_list = [globals()['{}'.format(i)]['Close'] for i in finance.keys()]"
   ],
   "outputs": [
    {
     "output_type": "error",
     "ename": "KeyError",
     "evalue": "'Close'",
     "traceback": [
      "\u001b[1;31m---------------------------------------------------------------------------\u001b[0m",
      "\u001b[1;31mKeyError\u001b[0m                                  Traceback (most recent call last)",
      "\u001b[1;32m~\\AppData\\Local\\Programs\\Python\\Python37\\lib\\site-packages\\pandas\\core\\indexes\\base.py\u001b[0m in \u001b[0;36mget_loc\u001b[1;34m(self, key, method, tolerance)\u001b[0m\n\u001b[0;32m   2894\u001b[0m             \u001b[1;32mtry\u001b[0m\u001b[1;33m:\u001b[0m\u001b[1;33m\u001b[0m\u001b[1;33m\u001b[0m\u001b[0m\n\u001b[1;32m-> 2895\u001b[1;33m                 \u001b[1;32mreturn\u001b[0m \u001b[0mself\u001b[0m\u001b[1;33m.\u001b[0m\u001b[0m_engine\u001b[0m\u001b[1;33m.\u001b[0m\u001b[0mget_loc\u001b[0m\u001b[1;33m(\u001b[0m\u001b[0mcasted_key\u001b[0m\u001b[1;33m)\u001b[0m\u001b[1;33m\u001b[0m\u001b[1;33m\u001b[0m\u001b[0m\n\u001b[0m\u001b[0;32m   2896\u001b[0m             \u001b[1;32mexcept\u001b[0m \u001b[0mKeyError\u001b[0m \u001b[1;32mas\u001b[0m \u001b[0merr\u001b[0m\u001b[1;33m:\u001b[0m\u001b[1;33m\u001b[0m\u001b[1;33m\u001b[0m\u001b[0m\n",
      "\u001b[1;32mpandas\\_libs\\index.pyx\u001b[0m in \u001b[0;36mpandas._libs.index.IndexEngine.get_loc\u001b[1;34m()\u001b[0m\n",
      "\u001b[1;32mpandas\\_libs\\index.pyx\u001b[0m in \u001b[0;36mpandas._libs.index.IndexEngine.get_loc\u001b[1;34m()\u001b[0m\n",
      "\u001b[1;32mpandas\\_libs\\hashtable_class_helper.pxi\u001b[0m in \u001b[0;36mpandas._libs.hashtable.PyObjectHashTable.get_item\u001b[1;34m()\u001b[0m\n",
      "\u001b[1;32mpandas\\_libs\\hashtable_class_helper.pxi\u001b[0m in \u001b[0;36mpandas._libs.hashtable.PyObjectHashTable.get_item\u001b[1;34m()\u001b[0m\n",
      "\u001b[1;31mKeyError\u001b[0m: 'Close'",
      "\nThe above exception was the direct cause of the following exception:\n",
      "\u001b[1;31mKeyError\u001b[0m                                  Traceback (most recent call last)",
      "\u001b[1;32mC:\\Users\\8AEA~1\\AppData\\Local\\Temp/ipykernel_24892/1393798799.py\u001b[0m in \u001b[0;36m<module>\u001b[1;34m\u001b[0m\n\u001b[1;32m----> 1\u001b[1;33m \u001b[0mdf_list\u001b[0m \u001b[1;33m=\u001b[0m \u001b[1;33m[\u001b[0m\u001b[0mglobals\u001b[0m\u001b[1;33m(\u001b[0m\u001b[1;33m)\u001b[0m\u001b[1;33m[\u001b[0m\u001b[1;34m'{}'\u001b[0m\u001b[1;33m.\u001b[0m\u001b[0mformat\u001b[0m\u001b[1;33m(\u001b[0m\u001b[0mi\u001b[0m\u001b[1;33m)\u001b[0m\u001b[1;33m]\u001b[0m\u001b[1;33m[\u001b[0m\u001b[1;34m'Close'\u001b[0m\u001b[1;33m]\u001b[0m \u001b[1;32mfor\u001b[0m \u001b[0mi\u001b[0m \u001b[1;32min\u001b[0m \u001b[0mfinance\u001b[0m\u001b[1;33m.\u001b[0m\u001b[0mkeys\u001b[0m\u001b[1;33m(\u001b[0m\u001b[1;33m)\u001b[0m\u001b[1;33m]\u001b[0m\u001b[1;33m\u001b[0m\u001b[1;33m\u001b[0m\u001b[0m\n\u001b[0m",
      "\u001b[1;32mC:\\Users\\8AEA~1\\AppData\\Local\\Temp/ipykernel_24892/1393798799.py\u001b[0m in \u001b[0;36m<listcomp>\u001b[1;34m(.0)\u001b[0m\n\u001b[1;32m----> 1\u001b[1;33m \u001b[0mdf_list\u001b[0m \u001b[1;33m=\u001b[0m \u001b[1;33m[\u001b[0m\u001b[0mglobals\u001b[0m\u001b[1;33m(\u001b[0m\u001b[1;33m)\u001b[0m\u001b[1;33m[\u001b[0m\u001b[1;34m'{}'\u001b[0m\u001b[1;33m.\u001b[0m\u001b[0mformat\u001b[0m\u001b[1;33m(\u001b[0m\u001b[0mi\u001b[0m\u001b[1;33m)\u001b[0m\u001b[1;33m]\u001b[0m\u001b[1;33m[\u001b[0m\u001b[1;34m'Close'\u001b[0m\u001b[1;33m]\u001b[0m \u001b[1;32mfor\u001b[0m \u001b[0mi\u001b[0m \u001b[1;32min\u001b[0m \u001b[0mfinance\u001b[0m\u001b[1;33m.\u001b[0m\u001b[0mkeys\u001b[0m\u001b[1;33m(\u001b[0m\u001b[1;33m)\u001b[0m\u001b[1;33m]\u001b[0m\u001b[1;33m\u001b[0m\u001b[1;33m\u001b[0m\u001b[0m\n\u001b[0m",
      "\u001b[1;32m~\\AppData\\Local\\Programs\\Python\\Python37\\lib\\site-packages\\pandas\\core\\frame.py\u001b[0m in \u001b[0;36m__getitem__\u001b[1;34m(self, key)\u001b[0m\n\u001b[0;32m   2904\u001b[0m             \u001b[1;32mif\u001b[0m \u001b[0mself\u001b[0m\u001b[1;33m.\u001b[0m\u001b[0mcolumns\u001b[0m\u001b[1;33m.\u001b[0m\u001b[0mnlevels\u001b[0m \u001b[1;33m>\u001b[0m \u001b[1;36m1\u001b[0m\u001b[1;33m:\u001b[0m\u001b[1;33m\u001b[0m\u001b[1;33m\u001b[0m\u001b[0m\n\u001b[0;32m   2905\u001b[0m                 \u001b[1;32mreturn\u001b[0m \u001b[0mself\u001b[0m\u001b[1;33m.\u001b[0m\u001b[0m_getitem_multilevel\u001b[0m\u001b[1;33m(\u001b[0m\u001b[0mkey\u001b[0m\u001b[1;33m)\u001b[0m\u001b[1;33m\u001b[0m\u001b[1;33m\u001b[0m\u001b[0m\n\u001b[1;32m-> 2906\u001b[1;33m             \u001b[0mindexer\u001b[0m \u001b[1;33m=\u001b[0m \u001b[0mself\u001b[0m\u001b[1;33m.\u001b[0m\u001b[0mcolumns\u001b[0m\u001b[1;33m.\u001b[0m\u001b[0mget_loc\u001b[0m\u001b[1;33m(\u001b[0m\u001b[0mkey\u001b[0m\u001b[1;33m)\u001b[0m\u001b[1;33m\u001b[0m\u001b[1;33m\u001b[0m\u001b[0m\n\u001b[0m\u001b[0;32m   2907\u001b[0m             \u001b[1;32mif\u001b[0m \u001b[0mis_integer\u001b[0m\u001b[1;33m(\u001b[0m\u001b[0mindexer\u001b[0m\u001b[1;33m)\u001b[0m\u001b[1;33m:\u001b[0m\u001b[1;33m\u001b[0m\u001b[1;33m\u001b[0m\u001b[0m\n\u001b[0;32m   2908\u001b[0m                 \u001b[0mindexer\u001b[0m \u001b[1;33m=\u001b[0m \u001b[1;33m[\u001b[0m\u001b[0mindexer\u001b[0m\u001b[1;33m]\u001b[0m\u001b[1;33m\u001b[0m\u001b[1;33m\u001b[0m\u001b[0m\n",
      "\u001b[1;32m~\\AppData\\Local\\Programs\\Python\\Python37\\lib\\site-packages\\pandas\\core\\indexes\\base.py\u001b[0m in \u001b[0;36mget_loc\u001b[1;34m(self, key, method, tolerance)\u001b[0m\n\u001b[0;32m   2895\u001b[0m                 \u001b[1;32mreturn\u001b[0m \u001b[0mself\u001b[0m\u001b[1;33m.\u001b[0m\u001b[0m_engine\u001b[0m\u001b[1;33m.\u001b[0m\u001b[0mget_loc\u001b[0m\u001b[1;33m(\u001b[0m\u001b[0mcasted_key\u001b[0m\u001b[1;33m)\u001b[0m\u001b[1;33m\u001b[0m\u001b[1;33m\u001b[0m\u001b[0m\n\u001b[0;32m   2896\u001b[0m             \u001b[1;32mexcept\u001b[0m \u001b[0mKeyError\u001b[0m \u001b[1;32mas\u001b[0m \u001b[0merr\u001b[0m\u001b[1;33m:\u001b[0m\u001b[1;33m\u001b[0m\u001b[1;33m\u001b[0m\u001b[0m\n\u001b[1;32m-> 2897\u001b[1;33m                 \u001b[1;32mraise\u001b[0m \u001b[0mKeyError\u001b[0m\u001b[1;33m(\u001b[0m\u001b[0mkey\u001b[0m\u001b[1;33m)\u001b[0m \u001b[1;32mfrom\u001b[0m \u001b[0merr\u001b[0m\u001b[1;33m\u001b[0m\u001b[1;33m\u001b[0m\u001b[0m\n\u001b[0m\u001b[0;32m   2898\u001b[0m \u001b[1;33m\u001b[0m\u001b[0m\n\u001b[0;32m   2899\u001b[0m         \u001b[1;32mif\u001b[0m \u001b[0mtolerance\u001b[0m \u001b[1;32mis\u001b[0m \u001b[1;32mnot\u001b[0m \u001b[1;32mNone\u001b[0m\u001b[1;33m:\u001b[0m\u001b[1;33m\u001b[0m\u001b[1;33m\u001b[0m\u001b[0m\n",
      "\u001b[1;31mKeyError\u001b[0m: 'Close'"
     ]
    }
   ],
   "metadata": {}
  },
  {
   "cell_type": "code",
   "execution_count": null,
   "source": [
    "stock = pd.concat(df_list, axis=1)\r\n",
    "stock.columns = finance.keys()\r\n",
    "stock_corr = stock.corr()"
   ],
   "outputs": [],
   "metadata": {}
  },
  {
   "cell_type": "code",
   "execution_count": null,
   "source": [
    "plt.figure(figsize=(12,12))\r\n",
    "sns.heatmap(data = stock_corr, annot=True, \r\n",
    "fmt = '.2f', linewidths=.5, cmap='Blues')"
   ],
   "outputs": [],
   "metadata": {}
  },
  {
   "cell_type": "code",
   "execution_count": null,
   "source": [
    "cor_list = list(stock_corr['k_inverse'])"
   ],
   "outputs": [],
   "metadata": {}
  },
  {
   "cell_type": "code",
   "execution_count": null,
   "source": [
    "def weight(x):\r\n",
    "    wp = []\r\n",
    "    for i in x:\r\n",
    "        wp.append(100*(1-i)/(sum([1-j for j in x])))\r\n",
    "\r\n",
    "    col = stock_corr.columns\r\n",
    "    df = pd.DataFrame(wp, col, columns=[\"weight\"])\r\n",
    "    \r\n",
    "    return df"
   ],
   "outputs": [],
   "metadata": {}
  },
  {
   "cell_type": "code",
   "execution_count": null,
   "source": [
    "weight(cor_list)"
   ],
   "outputs": [],
   "metadata": {}
  },
  {
   "cell_type": "code",
   "execution_count": null,
   "source": [
    "from sklearn.linear_model import LinearRegression"
   ],
   "outputs": [],
   "metadata": {}
  },
  {
   "cell_type": "code",
   "execution_count": null,
   "source": [
    "import warnings\r\n",
    "warnings.filterwarnings('ignore')"
   ],
   "outputs": [],
   "metadata": {}
  },
  {
   "cell_type": "code",
   "execution_count": null,
   "source": [
    "def get_coef(df):\r\n",
    "    s_cols = list(df.columns)\r\n",
    "    coef = []\r\n",
    "    for i in range(len(s_cols)):\r\n",
    "        X_data = df[df.columns.difference([s_cols[i]])]\r\n",
    "        y_data = df[s_cols[i]]\r\n",
    "        X_data.fillna(X_data.mean(), inplace=True)\r\n",
    "        y_data.fillna(y_data.mean(), inplace=True)\r\n",
    "\r\n",
    "        model = LinearRegression()\r\n",
    "        model.fit(X_data, y_data)\r\n",
    "        c = model.coef_\r\n",
    "        c = np.insert(c, i, 0)\r\n",
    "        coef.append(c)\r\n",
    "\r\n",
    "    coef_df = pd.DataFrame(coef, columns = s_cols, index = s_cols)\r\n",
    "    return coef_df"
   ],
   "outputs": [],
   "metadata": {}
  },
  {
   "cell_type": "code",
   "execution_count": null,
   "source": [
    "stock_coef = get_coef(stock)"
   ],
   "outputs": [],
   "metadata": {}
  },
  {
   "cell_type": "code",
   "execution_count": null,
   "source": [
    "plt.figure(figsize=(20,20))\n",
    "sns.heatmap(data = stock_coef, annot=True, \n",
    "fmt = '.2f', linewidths=.5, cmap='Blues')"
   ],
   "outputs": [],
   "metadata": {}
  },
  {
   "cell_type": "code",
   "execution_count": null,
   "source": [
    "import statsmodels.api as sm\n",
    "from statsmodels.tsa.api import VAR\n",
    "from statsmodels.tsa.stattools import adfuller"
   ],
   "outputs": [],
   "metadata": {}
  },
  {
   "cell_type": "code",
   "execution_count": null,
   "source": [
    "kospi"
   ],
   "outputs": [],
   "metadata": {}
  },
  {
   "cell_type": "code",
   "execution_count": null,
   "source": [
    "adfuller_test = adfuller(kospi['Close'], autolag= \"AIC\")\n",
    "print(\"ADF test statistic: {}\".format(adfuller_test[0]))\n",
    "print(\"p-value: {}\".format(adfuller_test[1]))"
   ],
   "outputs": [],
   "metadata": {}
  },
  {
   "cell_type": "code",
   "execution_count": null,
   "source": [
    "adfuller_test = adfuller(kospi['Close'].diff().dropna(), autolag= \"AIC\")\n",
    "print(\"ADF test statistic: {}\".format(adfuller_test[0]))\n",
    "print(\"p-value: {}\".format(adfuller_test[1]))"
   ],
   "outputs": [],
   "metadata": {}
  },
  {
   "cell_type": "code",
   "execution_count": null,
   "source": [
    "adfuller_test = adfuller(kospi['Volume'].diff().dropna(), autolag= \"AIC\")\n",
    "print(\"ADF test statistic: {}\".format(adfuller_test[0]))\n",
    "print(\"p-value: {}\".format(adfuller_test[1]))"
   ],
   "outputs": [],
   "metadata": {}
  },
  {
   "cell_type": "code",
   "execution_count": null,
   "source": [
    "model = VAR(kospi.diff(1).dropna())"
   ],
   "outputs": [],
   "metadata": {}
  },
  {
   "cell_type": "code",
   "execution_count": null,
   "source": [
    "results = model.fit(1)"
   ],
   "outputs": [],
   "metadata": {}
  },
  {
   "cell_type": "code",
   "execution_count": null,
   "source": [
    "results.summary()"
   ],
   "outputs": [],
   "metadata": {}
  },
  {
   "cell_type": "code",
   "execution_count": null,
   "source": [
    "def arima(df):\n",
    "    from statsmodels.tsa.arima_model import ARIMA\n",
    "    import statsmodels.api as sm\n",
    "    model = ARIMA(df['Close'], order=(2,1,2))\n",
    "    model_fit = model.fit(trend='nc')\n",
    "    fore = model_fit.forecast(steps=10)\n",
    "    forecast = pd.DataFrame(fore[0], columns=['df'])\n",
    "    return forecast"
   ],
   "outputs": [],
   "metadata": {}
  },
  {
   "cell_type": "code",
   "execution_count": null,
   "source": [
    "arima(sp500)"
   ],
   "outputs": [],
   "metadata": {}
  },
  {
   "cell_type": "code",
   "execution_count": null,
   "source": [
    "import tensorflow as tf\n",
    "from tensorflow.keras.models import Sequential\n",
    "from tensorflow.keras.layers import LSTM, GRU, Dense, TimeDistributed, RepeatVector, Dropout, Bidirectional, BatchNormalization\n",
    "\n",
    "import warnings\n",
    "warnings.filterwarnings('ignore')\n",
    "\n",
    "from sklearn.preprocessing import MinMaxScaler\n",
    "import tempfile\n",
    "import time\n",
    "from sklearn.metrics import mean_squared_error, r2_score"
   ],
   "outputs": [],
   "metadata": {}
  },
  {
   "cell_type": "code",
   "execution_count": null,
   "source": [
    "kospi.corr()['Close']"
   ],
   "outputs": [],
   "metadata": {}
  },
  {
   "cell_type": "code",
   "execution_count": null,
   "source": [
    "from statsmodels.tsa.seasonal import seasonal_decompose\n",
    "\n",
    "plt.rcParams['figure.figsize'] = [12, 8]\n",
    "seasonal_decompose(kospi['Close'], model='additive', period = 30).plot()\n",
    "plt.show()"
   ],
   "outputs": [],
   "metadata": {}
  },
  {
   "cell_type": "code",
   "execution_count": null,
   "source": [
    "kospi.corr()"
   ],
   "outputs": [],
   "metadata": {}
  },
  {
   "cell_type": "code",
   "execution_count": null,
   "source": [
    "gpus = tf.config.experimental.list_physical_devices('GPU')\n",
    "if gpus:\n",
    "  try:\n",
    "    # Currently, memory growth needs to be the same across GPUs\n",
    "    for gpu in gpus:\n",
    "      tf.config.experimental.set_memory_growth(gpu, True)\n",
    "    logical_gpus = tf.config.experimental.list_logical_devices('GPU')\n",
    "    print(len(gpus), \"Physical GPUs,\", len(logical_gpus), \"Logical GPUs\")\n",
    "  except RuntimeError as e:\n",
    "    # Memory growth must be set before GPUs have been initialized\n",
    "    print(e)"
   ],
   "outputs": [],
   "metadata": {}
  },
  {
   "cell_type": "code",
   "execution_count": null,
   "source": [
    "kospi_df = kospi.iloc[:,:4]"
   ],
   "outputs": [],
   "metadata": {}
  },
  {
   "cell_type": "code",
   "execution_count": null,
   "source": [
    "split_date = int(kospi_df.shape[0]*0.8)\n",
    "train = kospi_df[:split_date]\n",
    "test = kospi_df[split_date:]\n",
    "\n",
    "#TempAvgF scale\n",
    "scaler = MinMaxScaler()\n",
    "train_scale = pd.DataFrame(scaler.fit_transform(train), columns=kospi_df.columns) \n",
    "test_scale = pd.DataFrame(scaler.transform(test), columns=kospi_df.columns)\n",
    "# We should use transform in TEST data. If we use fit_transform, model learns test data too.\n",
    "\n",
    "train_feature = train_scale[train_scale.columns.difference(['Close'])]\n",
    "train_label = train_scale[['Close']]\n",
    "test_feature = test_scale[test_scale.columns.difference(['Close'])]\n",
    "test_label = test_scale[['Close']]\n",
    "\n",
    "# Split data each Timesteps\n",
    "def make_dataset(data, label, window_size, predict_size):\n",
    "    feature_list = []\n",
    "    label_list = []\n",
    "    for i in range(len(data) - window_size-predict_size):\n",
    "        feature_list.append(np.array(data.iloc[i:i+window_size]))\n",
    "        label_list.append(np.array(label.iloc[i+window_size:i+window_size+predict_size]))\n",
    "    return np.array(feature_list), np.array(label_list)\n",
    "\n",
    "timeseteps = 30\n",
    "predict_size = 5\n",
    "\n",
    "train_feature, train_label = make_dataset(train_feature, train_label, timeseteps, predict_size)\n",
    "test_feature, test_label = make_dataset(test_feature, test_label, timeseteps, predict_size)\n",
    "\n",
    "train_label = train_label.reshape(train_label.shape[0],train_label.shape[1])\n",
    "test_label = test_label.reshape(test_label.shape[0],test_label.shape[1])"
   ],
   "outputs": [],
   "metadata": {}
  },
  {
   "cell_type": "code",
   "execution_count": null,
   "source": [
    "from attention import Attention\n",
    "\n",
    "def setup_model(n, lr):\n",
    "    model = Sequential()\n",
    "    model.add(GRU(n,activation='relu',return_sequences=True,input_shape=(train_feature.shape[1],train_feature.shape[2])))\n",
    "    model.add(GRU(n,activation='relu'))\n",
    "    Attention()\n",
    "    model.add(Dense(predict_size, activation='linear'))\n",
    "    model.compile(loss='mse', optimizer=tf.keras.optimizers.Adam(learning_rate=lr))\n",
    "\n",
    "    return model\n",
    "\n",
    "model = setup_model(n=64, lr=0.005)\n",
    "batch_size = 10\n",
    "\n",
    "model.fit(train_feature, train_label,batch_size=batch_size,epochs=100,validation_split=0.2, verbose=0)\n",
    "\n",
    "print(model.evaluate(test_feature, test_label))\n",
    "\n",
    "predict = model.predict(test_feature)\n",
    "predict = predict.reshape(predict.shape[0],predict.shape[1])\n",
    "print(\"rmse: {}\".format(np.sqrt(mean_squared_error(test_label, predict))))\n",
    "print('r2: {}'.format(r2_score(test_label, predict)))"
   ],
   "outputs": [],
   "metadata": {}
  },
  {
   "cell_type": "code",
   "execution_count": null,
   "source": [
    "pd.DataFrame(predict).iloc[:,4].plot()"
   ],
   "outputs": [],
   "metadata": {}
  },
  {
   "cell_type": "code",
   "execution_count": null,
   "source": [
    "kospi['indicator'] = kospi['Volume']*kospi['Change']\n",
    "kospi_df = kospi\n",
    "split_date = int(kospi_df.shape[0]*0.8)\n",
    "train = kospi_df[:split_date]\n",
    "test = kospi_df[split_date:]\n",
    "\n",
    "#TempAvgF scale\n",
    "scaler = MinMaxScaler()\n",
    "train_scale = pd.DataFrame(scaler.fit_transform(train), columns=kospi_df.columns) \n",
    "test_scale = pd.DataFrame(scaler.transform(test), columns=kospi_df.columns)\n",
    "# We should use transform in TEST data. If we use fit_transform, model learns test data too.\n",
    "\n",
    "train_feature = train_scale[['Volume', 'Change']]\n",
    "train_label = train_scale[['indicator']]\n",
    "test_feature = test_scale[['Volume', 'Change']]\n",
    "test_label = test_scale[['indicator']]\n",
    "\n",
    "\n",
    "timeseteps = 30\n",
    "predict_size = 5\n",
    "\n",
    "train_feature, train_label = make_dataset(train_feature, train_label, timeseteps, predict_size)\n",
    "test_feature, test_label = make_dataset(test_feature, test_label, timeseteps, predict_size)\n",
    "\n",
    "train_label = train_label.reshape(train_label.shape[0],train_label.shape[1])\n",
    "test_label = test_label.reshape(test_label.shape[0],test_label.shape[1])"
   ],
   "outputs": [],
   "metadata": {}
  },
  {
   "cell_type": "code",
   "execution_count": null,
   "source": [
    "def setup_model(n, lr):\n",
    "    model = Sequential()\n",
    "    model.add(GRU(n,activation='relu',return_sequences=True,input_shape=(train_feature.shape[1],train_feature.shape[2])))\n",
    "    model.add(GRU(n,activation='relu'))\n",
    "    Attention()\n",
    "    model.add(Dense(predict_size, activation='linear'))\n",
    "    model.compile(loss='mse', optimizer=tf.keras.optimizers.Adam(learning_rate=lr))\n",
    "\n",
    "    return model\n",
    "\n",
    "model = setup_model(n=32, lr=0.005)\n",
    "batch_size = 10\n",
    "\n",
    "model.fit(train_feature, train_label,batch_size=batch_size,epochs=100,validation_split=0.2, verbose=0)\n",
    "\n",
    "print(model.evaluate(test_feature, test_label))\n",
    "\n",
    "predict = model.predict(test_feature)\n",
    "predict = predict.reshape(predict.shape[0],predict.shape[1])\n",
    "print(\"rmse: {}\".format(np.sqrt(mean_squared_error(test_label, predict))))\n",
    "print('r2: {}'.format(r2_score(test_label, predict)))"
   ],
   "outputs": [],
   "metadata": {}
  },
  {
   "cell_type": "code",
   "execution_count": null,
   "source": [],
   "outputs": [],
   "metadata": {}
  }
 ],
 "metadata": {
  "interpreter": {
   "hash": "51e2a5b36c3d7b36a1b63f1c5d9a4810ee09c04669957f563f9a453efc95e9a4"
  },
  "kernelspec": {
   "name": "python3",
   "display_name": "Python 3.7.6 64-bit"
  },
  "language_info": {
   "codemirror_mode": {
    "name": "ipython",
    "version": 3
   },
   "file_extension": ".py",
   "mimetype": "text/x-python",
   "name": "python",
   "nbconvert_exporter": "python",
   "pygments_lexer": "ipython3",
   "version": "3.7.6"
  }
 },
 "nbformat": 4,
 "nbformat_minor": 2
}